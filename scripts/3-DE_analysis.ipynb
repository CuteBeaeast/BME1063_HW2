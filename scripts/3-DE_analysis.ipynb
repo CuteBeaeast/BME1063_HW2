{
 "cells": [
  {
   "cell_type": "code",
   "execution_count": 1,
   "metadata": {},
   "outputs": [],
   "source": [
    "# load necessary packages\n",
    "import numpy as np\n",
    "import pandas as pd\n",
    "import matplotlib as mpl\n",
    "import matplotlib.pyplot as plt\n",
    "import os"
   ]
  },
  {
   "cell_type": "code",
   "execution_count": 4,
   "metadata": {},
   "outputs": [],
   "source": [
    "data = pd.read_csv('../FinalReport/result/DE.txt', sep='\\t')"
   ]
  },
  {
   "cell_type": "code",
   "execution_count": 7,
   "metadata": {},
   "outputs": [],
   "source": [
    "data.dropna(inplace=True)"
   ]
  },
  {
   "cell_type": "code",
   "execution_count": 16,
   "metadata": {},
   "outputs": [
    {
     "output_type": "execute_result",
     "data": {
      "text/plain": "                 A  Coef.Control - A  Coef.Control - B  t.Control - A  \\\n16658192  8.065095         -0.672730         -0.116222      -7.027956   \n16660624  9.525502         -0.358358         -0.021209      -6.142297   \n16662619  2.230688          0.684593          0.105029       7.072280   \n16667183  8.494390          0.388506          0.020485       5.993744   \n16670697  8.814552          0.357416         -0.030854       5.066925   \n...            ...               ...               ...            ...   \n17110071  7.923268         -0.619750          0.003681      -6.914813   \n17114386  9.075331          0.413242         -0.120687       5.310692   \n17119650  7.323973          0.415699         -0.081492       5.956191   \n17122840  7.025386          0.314504          0.047477       5.079037   \n17124626  3.836369         -0.719266         -0.013051      -6.957702   \n\n          t.Control - B  p.value.Control - A  p.value.Control - B          F  \\\n16658192      -1.214159             0.000093             0.258221  28.222192   \n16660624      -0.363522             0.000241             0.725334  23.751405   \n16662619       1.085016             0.000089             0.308531  29.013913   \n16667183       0.316040             0.000286             0.759803  22.753727   \n16670697      -0.437409             0.000875             0.673014  18.720919   \n...                 ...                  ...                  ...        ...   \n17110071       0.041071             0.000105             0.968213  32.066886   \n17114386      -1.550978             0.000645             0.158282  25.897164   \n17119650      -1.167627             0.000298             0.275520  29.196115   \n17122840       0.766724             0.000862             0.464570  14.993507   \n17124626      -0.126248             0.000100             0.902552  31.698104   \n\n          F.p.value  Res.Control - A  Res.Control - B  Genes.Row.names  \\\n16658192   0.000202               -1                0         16658192   \n16660624   0.000374               -1                0         16660624   \n16662619   0.000183                1                0         16662619   \n16667183   0.000435                1                0         16667183   \n16670697   0.000851                1                0         16670697   \n...             ...              ...              ...              ...   \n17110071   0.000127               -1                0         17110071   \n17114386   0.000275                1                0         17114386   \n17119650   0.000179                1                0         17119650   \n17122840   0.001776                1                0         17122840   \n17124626   0.000133               -1                0         17124626   \n\n                                               Genes.ACCNUM  Genes.SYMBOL  \\\n16658192  NM_001126240, NM_001126241, NM_001126242, NM_0...          TP73   \n16660624  NM_001009999, NM_015013, XM_005245786, XM_0067...         KDM1A   \n16662619                                          NR_036217       MIR4255   \n16667183  NM_001164391, NM_001164392, NM_001164393, NM_0...          MTF2   \n16670697  NM_001303229, NM_001303242, NM_001303243, NM_0...        PRUNE1   \n...                                                     ...           ...   \n17110071  NM_001170750, NM_001170751, NM_001170752, NM_0...          SRPX   \n17114386     NM_001078172, NM_001134321, BC000393, BC019300         RTL8A   \n17119650                                          NR_039797       MIR4653   \n17122840  XR_920358, XR_920359, XR_920360, XR_920361, XR...  LOC105372733   \n17124626                               NR_125718, NR_125719      POT1-AS1   \n\n                                                 Genes.DESC  Genes.GENEID  \n16658192                                  tumor protein p73      16658192  \n16660624                              lysine demethylase 1A      16660624  \n16662619                                      microRNA 4255      16662619  \n16667183  metal response element binding transcription f...      16667183  \n16670697                         prune exopolyphosphatase 1      16670697  \n...                                                     ...           ...  \n17110071           sushi repeat containing protein X-linked      17110071  \n17114386                        retrotransposon Gag like 8A      17114386  \n17119650                                      microRNA 4653      17119650  \n17122840                       uncharacterized LOC105372733      17122840  \n17124626                               POT1 antisense RNA 1      17124626  \n\n[155 rows x 16 columns]",
      "text/html": "<div>\n<style scoped>\n    .dataframe tbody tr th:only-of-type {\n        vertical-align: middle;\n    }\n\n    .dataframe tbody tr th {\n        vertical-align: top;\n    }\n\n    .dataframe thead th {\n        text-align: right;\n    }\n</style>\n<table border=\"1\" class=\"dataframe\">\n  <thead>\n    <tr style=\"text-align: right;\">\n      <th></th>\n      <th>A</th>\n      <th>Coef.Control - A</th>\n      <th>Coef.Control - B</th>\n      <th>t.Control - A</th>\n      <th>t.Control - B</th>\n      <th>p.value.Control - A</th>\n      <th>p.value.Control - B</th>\n      <th>F</th>\n      <th>F.p.value</th>\n      <th>Res.Control - A</th>\n      <th>Res.Control - B</th>\n      <th>Genes.Row.names</th>\n      <th>Genes.ACCNUM</th>\n      <th>Genes.SYMBOL</th>\n      <th>Genes.DESC</th>\n      <th>Genes.GENEID</th>\n    </tr>\n  </thead>\n  <tbody>\n    <tr>\n      <th>16658192</th>\n      <td>8.065095</td>\n      <td>-0.672730</td>\n      <td>-0.116222</td>\n      <td>-7.027956</td>\n      <td>-1.214159</td>\n      <td>0.000093</td>\n      <td>0.258221</td>\n      <td>28.222192</td>\n      <td>0.000202</td>\n      <td>-1</td>\n      <td>0</td>\n      <td>16658192</td>\n      <td>NM_001126240, NM_001126241, NM_001126242, NM_0...</td>\n      <td>TP73</td>\n      <td>tumor protein p73</td>\n      <td>16658192</td>\n    </tr>\n    <tr>\n      <th>16660624</th>\n      <td>9.525502</td>\n      <td>-0.358358</td>\n      <td>-0.021209</td>\n      <td>-6.142297</td>\n      <td>-0.363522</td>\n      <td>0.000241</td>\n      <td>0.725334</td>\n      <td>23.751405</td>\n      <td>0.000374</td>\n      <td>-1</td>\n      <td>0</td>\n      <td>16660624</td>\n      <td>NM_001009999, NM_015013, XM_005245786, XM_0067...</td>\n      <td>KDM1A</td>\n      <td>lysine demethylase 1A</td>\n      <td>16660624</td>\n    </tr>\n    <tr>\n      <th>16662619</th>\n      <td>2.230688</td>\n      <td>0.684593</td>\n      <td>0.105029</td>\n      <td>7.072280</td>\n      <td>1.085016</td>\n      <td>0.000089</td>\n      <td>0.308531</td>\n      <td>29.013913</td>\n      <td>0.000183</td>\n      <td>1</td>\n      <td>0</td>\n      <td>16662619</td>\n      <td>NR_036217</td>\n      <td>MIR4255</td>\n      <td>microRNA 4255</td>\n      <td>16662619</td>\n    </tr>\n    <tr>\n      <th>16667183</th>\n      <td>8.494390</td>\n      <td>0.388506</td>\n      <td>0.020485</td>\n      <td>5.993744</td>\n      <td>0.316040</td>\n      <td>0.000286</td>\n      <td>0.759803</td>\n      <td>22.753727</td>\n      <td>0.000435</td>\n      <td>1</td>\n      <td>0</td>\n      <td>16667183</td>\n      <td>NM_001164391, NM_001164392, NM_001164393, NM_0...</td>\n      <td>MTF2</td>\n      <td>metal response element binding transcription f...</td>\n      <td>16667183</td>\n    </tr>\n    <tr>\n      <th>16670697</th>\n      <td>8.814552</td>\n      <td>0.357416</td>\n      <td>-0.030854</td>\n      <td>5.066925</td>\n      <td>-0.437409</td>\n      <td>0.000875</td>\n      <td>0.673014</td>\n      <td>18.720919</td>\n      <td>0.000851</td>\n      <td>1</td>\n      <td>0</td>\n      <td>16670697</td>\n      <td>NM_001303229, NM_001303242, NM_001303243, NM_0...</td>\n      <td>PRUNE1</td>\n      <td>prune exopolyphosphatase 1</td>\n      <td>16670697</td>\n    </tr>\n    <tr>\n      <th>...</th>\n      <td>...</td>\n      <td>...</td>\n      <td>...</td>\n      <td>...</td>\n      <td>...</td>\n      <td>...</td>\n      <td>...</td>\n      <td>...</td>\n      <td>...</td>\n      <td>...</td>\n      <td>...</td>\n      <td>...</td>\n      <td>...</td>\n      <td>...</td>\n      <td>...</td>\n      <td>...</td>\n    </tr>\n    <tr>\n      <th>17110071</th>\n      <td>7.923268</td>\n      <td>-0.619750</td>\n      <td>0.003681</td>\n      <td>-6.914813</td>\n      <td>0.041071</td>\n      <td>0.000105</td>\n      <td>0.968213</td>\n      <td>32.066886</td>\n      <td>0.000127</td>\n      <td>-1</td>\n      <td>0</td>\n      <td>17110071</td>\n      <td>NM_001170750, NM_001170751, NM_001170752, NM_0...</td>\n      <td>SRPX</td>\n      <td>sushi repeat containing protein X-linked</td>\n      <td>17110071</td>\n    </tr>\n    <tr>\n      <th>17114386</th>\n      <td>9.075331</td>\n      <td>0.413242</td>\n      <td>-0.120687</td>\n      <td>5.310692</td>\n      <td>-1.550978</td>\n      <td>0.000645</td>\n      <td>0.158282</td>\n      <td>25.897164</td>\n      <td>0.000275</td>\n      <td>1</td>\n      <td>0</td>\n      <td>17114386</td>\n      <td>NM_001078172, NM_001134321, BC000393, BC019300</td>\n      <td>RTL8A</td>\n      <td>retrotransposon Gag like 8A</td>\n      <td>17114386</td>\n    </tr>\n    <tr>\n      <th>17119650</th>\n      <td>7.323973</td>\n      <td>0.415699</td>\n      <td>-0.081492</td>\n      <td>5.956191</td>\n      <td>-1.167627</td>\n      <td>0.000298</td>\n      <td>0.275520</td>\n      <td>29.196115</td>\n      <td>0.000179</td>\n      <td>1</td>\n      <td>0</td>\n      <td>17119650</td>\n      <td>NR_039797</td>\n      <td>MIR4653</td>\n      <td>microRNA 4653</td>\n      <td>17119650</td>\n    </tr>\n    <tr>\n      <th>17122840</th>\n      <td>7.025386</td>\n      <td>0.314504</td>\n      <td>0.047477</td>\n      <td>5.079037</td>\n      <td>0.766724</td>\n      <td>0.000862</td>\n      <td>0.464570</td>\n      <td>14.993507</td>\n      <td>0.001776</td>\n      <td>1</td>\n      <td>0</td>\n      <td>17122840</td>\n      <td>XR_920358, XR_920359, XR_920360, XR_920361, XR...</td>\n      <td>LOC105372733</td>\n      <td>uncharacterized LOC105372733</td>\n      <td>17122840</td>\n    </tr>\n    <tr>\n      <th>17124626</th>\n      <td>3.836369</td>\n      <td>-0.719266</td>\n      <td>-0.013051</td>\n      <td>-6.957702</td>\n      <td>-0.126248</td>\n      <td>0.000100</td>\n      <td>0.902552</td>\n      <td>31.698104</td>\n      <td>0.000133</td>\n      <td>-1</td>\n      <td>0</td>\n      <td>17124626</td>\n      <td>NR_125718, NR_125719</td>\n      <td>POT1-AS1</td>\n      <td>POT1 antisense RNA 1</td>\n      <td>17124626</td>\n    </tr>\n  </tbody>\n</table>\n<p>155 rows × 16 columns</p>\n</div>"
     },
     "metadata": {},
     "execution_count": 16
    }
   ],
   "source": [
    "data[(data['p.value.Control - A'] < 0.001) & (data['p.value.Control - B'] > 0.1)]"
   ]
  },
  {
   "cell_type": "code",
   "execution_count": 20,
   "metadata": {},
   "outputs": [
    {
     "output_type": "execute_result",
     "data": {
      "text/plain": "                 A  Coef.Control - A  Coef.Control - B  t.Control - A  \\\n16707196  8.190641         -0.500394         -3.255202      -4.133970   \n16771417  6.916016         -0.307892         -3.014035      -2.256529   \n16844735  6.862499          0.082433         -2.655840       0.270228   \n16923031  7.636012         -0.756909         -3.267270      -6.379615   \n\n          t.Control - B  p.value.Control - A  p.value.Control - B           F  \\\n16707196     -26.892652             0.003054         2.416156e-09  419.420672   \n16771417     -22.089736             0.052970         1.204638e-08  295.468162   \n16844735      -8.706267             0.793607         1.922412e-05   52.149852   \n16923031     -27.538214             0.000185         1.989684e-09  415.579662   \n\n             F.p.value  Res.Control - A  Res.Control - B  Genes.Row.names  \\\n16707196  4.869776e-09                0               -1         16707196   \n16771417  2.037993e-08                0               -1         16771417   \n16844735  2.049093e-05                0               -1         16844735   \n16923031  5.056696e-09               -1               -1         16923031   \n\n                                               Genes.ACCNUM Genes.SYMBOL  \\\n16707196  NM_001270927, NM_001270928, NM_001270929, NM_0...        IFIT1   \n16771417  NM_001261825, NM_003733, NM_198213, BC117408, ...         OASL   \n16844735  NM_002274, NM_153490, AK223077, AK290244, AK29...        KRT13   \n16923031  NM_001144925, NM_001178046, NM_001282920, NM_0...          MX1   \n\n                                                 Genes.DESC  Genes.GENEID  \n16707196  interferon induced protein with tetratricopept...      16707196  \n16771417               2'-5'-oligoadenylate synthetase like      16771417  \n16844735                                         keratin 13      16844735  \n16923031                           MX dynamin like GTPase 1      16923031  ",
      "text/html": "<div>\n<style scoped>\n    .dataframe tbody tr th:only-of-type {\n        vertical-align: middle;\n    }\n\n    .dataframe tbody tr th {\n        vertical-align: top;\n    }\n\n    .dataframe thead th {\n        text-align: right;\n    }\n</style>\n<table border=\"1\" class=\"dataframe\">\n  <thead>\n    <tr style=\"text-align: right;\">\n      <th></th>\n      <th>A</th>\n      <th>Coef.Control - A</th>\n      <th>Coef.Control - B</th>\n      <th>t.Control - A</th>\n      <th>t.Control - B</th>\n      <th>p.value.Control - A</th>\n      <th>p.value.Control - B</th>\n      <th>F</th>\n      <th>F.p.value</th>\n      <th>Res.Control - A</th>\n      <th>Res.Control - B</th>\n      <th>Genes.Row.names</th>\n      <th>Genes.ACCNUM</th>\n      <th>Genes.SYMBOL</th>\n      <th>Genes.DESC</th>\n      <th>Genes.GENEID</th>\n    </tr>\n  </thead>\n  <tbody>\n    <tr>\n      <th>16707196</th>\n      <td>8.190641</td>\n      <td>-0.500394</td>\n      <td>-3.255202</td>\n      <td>-4.133970</td>\n      <td>-26.892652</td>\n      <td>0.003054</td>\n      <td>2.416156e-09</td>\n      <td>419.420672</td>\n      <td>4.869776e-09</td>\n      <td>0</td>\n      <td>-1</td>\n      <td>16707196</td>\n      <td>NM_001270927, NM_001270928, NM_001270929, NM_0...</td>\n      <td>IFIT1</td>\n      <td>interferon induced protein with tetratricopept...</td>\n      <td>16707196</td>\n    </tr>\n    <tr>\n      <th>16771417</th>\n      <td>6.916016</td>\n      <td>-0.307892</td>\n      <td>-3.014035</td>\n      <td>-2.256529</td>\n      <td>-22.089736</td>\n      <td>0.052970</td>\n      <td>1.204638e-08</td>\n      <td>295.468162</td>\n      <td>2.037993e-08</td>\n      <td>0</td>\n      <td>-1</td>\n      <td>16771417</td>\n      <td>NM_001261825, NM_003733, NM_198213, BC117408, ...</td>\n      <td>OASL</td>\n      <td>2'-5'-oligoadenylate synthetase like</td>\n      <td>16771417</td>\n    </tr>\n    <tr>\n      <th>16844735</th>\n      <td>6.862499</td>\n      <td>0.082433</td>\n      <td>-2.655840</td>\n      <td>0.270228</td>\n      <td>-8.706267</td>\n      <td>0.793607</td>\n      <td>1.922412e-05</td>\n      <td>52.149852</td>\n      <td>2.049093e-05</td>\n      <td>0</td>\n      <td>-1</td>\n      <td>16844735</td>\n      <td>NM_002274, NM_153490, AK223077, AK290244, AK29...</td>\n      <td>KRT13</td>\n      <td>keratin 13</td>\n      <td>16844735</td>\n    </tr>\n    <tr>\n      <th>16923031</th>\n      <td>7.636012</td>\n      <td>-0.756909</td>\n      <td>-3.267270</td>\n      <td>-6.379615</td>\n      <td>-27.538214</td>\n      <td>0.000185</td>\n      <td>1.989684e-09</td>\n      <td>415.579662</td>\n      <td>5.056696e-09</td>\n      <td>-1</td>\n      <td>-1</td>\n      <td>16923031</td>\n      <td>NM_001144925, NM_001178046, NM_001282920, NM_0...</td>\n      <td>MX1</td>\n      <td>MX dynamin like GTPase 1</td>\n      <td>16923031</td>\n    </tr>\n  </tbody>\n</table>\n</div>"
     },
     "metadata": {},
     "execution_count": 20
    }
   ],
   "source": [
    "data[(data['Coef.Control - A'] - data['Coef.Control - B']) > 2.5]"
   ]
  },
  {
   "cell_type": "code",
   "execution_count": 22,
   "metadata": {},
   "outputs": [
    {
     "output_type": "execute_result",
     "data": {
      "text/plain": "                 A  Coef.Control - A  Coef.Control - B  t.Control - A  \\\n16688460  5.834683          0.809801          3.287043       6.721634   \n17004903  9.525628         -0.274794          2.402725      -3.479713   \n17010941  7.771411         -0.142016          2.481728      -1.320489   \n17016499  7.626513          0.345376          2.869193       2.581180   \n\n          t.Control - B  p.value.Control - A  p.value.Control - B           F  \\\n16688460      27.283632             0.000128         2.146894e-09  404.124241   \n17004903      30.425694             0.007906         8.787281e-10  695.802620   \n17010941      23.075524             0.222048         8.439660e-09  376.462994   \n17016499      21.443011             0.031694         1.534316e-08  274.077956   \n\n             F.p.value  Res.Control - A  Res.Control - B  Genes.Row.names  \\\n16688460  5.669658e-09                1                1         16688460   \n17004903  6.103144e-10                0                1         17004903   \n17010941  7.577672e-09                0                1         17010941   \n17016499  2.768270e-08                0                1         17016499   \n\n                                               Genes.ACCNUM  Genes.SYMBOL  \\\n16688460         XR_426710, XR_947498, XR_958111, XR_958112  LOC102724548   \n17004903  NM_001168319, NM_001955, XM_011514330, XM_0115...          EDN1   \n17010941  NM_001010853, XM_005248661, XM_005248662, XM_0...        PM20D2   \n17016499            NM_005322, BC069101, BC101581, BC101583      HIST1H1B   \n\n                                    Genes.DESC  Genes.GENEID  \n16688460          uncharacterized LOC102724548      16688460  \n17004903                          endothelin 1      17004903  \n17010941     peptidase M20 domain containing 2      17010941  \n17016499  histone cluster 1 H1 family member b      17016499  ",
      "text/html": "<div>\n<style scoped>\n    .dataframe tbody tr th:only-of-type {\n        vertical-align: middle;\n    }\n\n    .dataframe tbody tr th {\n        vertical-align: top;\n    }\n\n    .dataframe thead th {\n        text-align: right;\n    }\n</style>\n<table border=\"1\" class=\"dataframe\">\n  <thead>\n    <tr style=\"text-align: right;\">\n      <th></th>\n      <th>A</th>\n      <th>Coef.Control - A</th>\n      <th>Coef.Control - B</th>\n      <th>t.Control - A</th>\n      <th>t.Control - B</th>\n      <th>p.value.Control - A</th>\n      <th>p.value.Control - B</th>\n      <th>F</th>\n      <th>F.p.value</th>\n      <th>Res.Control - A</th>\n      <th>Res.Control - B</th>\n      <th>Genes.Row.names</th>\n      <th>Genes.ACCNUM</th>\n      <th>Genes.SYMBOL</th>\n      <th>Genes.DESC</th>\n      <th>Genes.GENEID</th>\n    </tr>\n  </thead>\n  <tbody>\n    <tr>\n      <th>16688460</th>\n      <td>5.834683</td>\n      <td>0.809801</td>\n      <td>3.287043</td>\n      <td>6.721634</td>\n      <td>27.283632</td>\n      <td>0.000128</td>\n      <td>2.146894e-09</td>\n      <td>404.124241</td>\n      <td>5.669658e-09</td>\n      <td>1</td>\n      <td>1</td>\n      <td>16688460</td>\n      <td>XR_426710, XR_947498, XR_958111, XR_958112</td>\n      <td>LOC102724548</td>\n      <td>uncharacterized LOC102724548</td>\n      <td>16688460</td>\n    </tr>\n    <tr>\n      <th>17004903</th>\n      <td>9.525628</td>\n      <td>-0.274794</td>\n      <td>2.402725</td>\n      <td>-3.479713</td>\n      <td>30.425694</td>\n      <td>0.007906</td>\n      <td>8.787281e-10</td>\n      <td>695.802620</td>\n      <td>6.103144e-10</td>\n      <td>0</td>\n      <td>1</td>\n      <td>17004903</td>\n      <td>NM_001168319, NM_001955, XM_011514330, XM_0115...</td>\n      <td>EDN1</td>\n      <td>endothelin 1</td>\n      <td>17004903</td>\n    </tr>\n    <tr>\n      <th>17010941</th>\n      <td>7.771411</td>\n      <td>-0.142016</td>\n      <td>2.481728</td>\n      <td>-1.320489</td>\n      <td>23.075524</td>\n      <td>0.222048</td>\n      <td>8.439660e-09</td>\n      <td>376.462994</td>\n      <td>7.577672e-09</td>\n      <td>0</td>\n      <td>1</td>\n      <td>17010941</td>\n      <td>NM_001010853, XM_005248661, XM_005248662, XM_0...</td>\n      <td>PM20D2</td>\n      <td>peptidase M20 domain containing 2</td>\n      <td>17010941</td>\n    </tr>\n    <tr>\n      <th>17016499</th>\n      <td>7.626513</td>\n      <td>0.345376</td>\n      <td>2.869193</td>\n      <td>2.581180</td>\n      <td>21.443011</td>\n      <td>0.031694</td>\n      <td>1.534316e-08</td>\n      <td>274.077956</td>\n      <td>2.768270e-08</td>\n      <td>0</td>\n      <td>1</td>\n      <td>17016499</td>\n      <td>NM_005322, BC069101, BC101581, BC101583</td>\n      <td>HIST1H1B</td>\n      <td>histone cluster 1 H1 family member b</td>\n      <td>17016499</td>\n    </tr>\n  </tbody>\n</table>\n</div>"
     },
     "metadata": {},
     "execution_count": 22
    }
   ],
   "source": [
    "data[(data['Coef.Control - B'] - data['Coef.Control - A']) > 2.3]"
   ]
  },
  {
   "cell_type": "code",
   "execution_count": null,
   "metadata": {},
   "outputs": [],
   "source": []
  }
 ],
 "metadata": {
  "language_info": {
   "codemirror_mode": {
    "name": "ipython",
    "version": 3
   },
   "file_extension": ".py",
   "mimetype": "text/x-python",
   "name": "python",
   "nbconvert_exporter": "python",
   "pygments_lexer": "ipython3",
   "version": "3.7.6-final"
  },
  "orig_nbformat": 2,
  "kernelspec": {
   "name": "python3",
   "display_name": "Python 3"
  }
 },
 "nbformat": 4,
 "nbformat_minor": 2
}